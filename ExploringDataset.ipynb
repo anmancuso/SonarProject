{
 "cells": [
  {
   "cell_type": "code",
   "execution_count": 18,
   "metadata": {
    "collapsed": false
   },
   "outputs": [
    {
     "name": "stdout",
     "output_type": "stream",
     "text": [
      "Python Version : 3.8.10\n"
     ]
    }
   ],
   "source": [
    "from platform import python_version\n",
    "print(\"Python Version :\",python_version())\n",
    "import pandas as pd\n",
    "import numpy as np\n",
    "pd.set_option(\"precision\",3)\n",
    "#For ML Algorithms\n",
    "from sklearn.model_selection import train_test_split\n",
    "from sklearn.linear_model import LogisticRegression\n",
    "from sklearn.metrics import accuracy_score\n",
    "from sklearn.metrics import confusion_matrix\n",
    "from matplotlib import pyplot as plt"
   ]
  },
  {
   "cell_type": "code",
   "execution_count": 11,
   "metadata": {
    "collapsed": false
   },
   "outputs": [
    {
     "data": {
      "text/html": [
       "<div>\n",
       "<style scoped>\n",
       "    .dataframe tbody tr th:only-of-type {\n",
       "        vertical-align: middle;\n",
       "    }\n",
       "\n",
       "    .dataframe tbody tr th {\n",
       "        vertical-align: top;\n",
       "    }\n",
       "\n",
       "    .dataframe thead th {\n",
       "        text-align: right;\n",
       "    }\n",
       "</style>\n",
       "<table border=\"1\" class=\"dataframe\">\n",
       "  <thead>\n",
       "    <tr style=\"text-align: right;\">\n",
       "      <th></th>\n",
       "      <th>0</th>\n",
       "      <th>1</th>\n",
       "      <th>2</th>\n",
       "      <th>3</th>\n",
       "      <th>4</th>\n",
       "      <th>5</th>\n",
       "      <th>6</th>\n",
       "      <th>7</th>\n",
       "      <th>8</th>\n",
       "      <th>9</th>\n",
       "      <th>...</th>\n",
       "      <th>51</th>\n",
       "      <th>52</th>\n",
       "      <th>53</th>\n",
       "      <th>54</th>\n",
       "      <th>55</th>\n",
       "      <th>56</th>\n",
       "      <th>57</th>\n",
       "      <th>58</th>\n",
       "      <th>59</th>\n",
       "      <th>60</th>\n",
       "    </tr>\n",
       "  </thead>\n",
       "  <tbody>\n",
       "    <tr>\n",
       "      <th>0</th>\n",
       "      <td>0.020</td>\n",
       "      <td>0.037</td>\n",
       "      <td>0.043</td>\n",
       "      <td>0.021</td>\n",
       "      <td>0.095</td>\n",
       "      <td>0.099</td>\n",
       "      <td>0.154</td>\n",
       "      <td>0.160</td>\n",
       "      <td>0.311</td>\n",
       "      <td>0.211</td>\n",
       "      <td>...</td>\n",
       "      <td>0.003</td>\n",
       "      <td>0.006</td>\n",
       "      <td>0.016</td>\n",
       "      <td>0.007</td>\n",
       "      <td>0.017</td>\n",
       "      <td>0.018</td>\n",
       "      <td>0.008</td>\n",
       "      <td>0.009</td>\n",
       "      <td>0.003</td>\n",
       "      <td>R</td>\n",
       "    </tr>\n",
       "    <tr>\n",
       "      <th>1</th>\n",
       "      <td>0.045</td>\n",
       "      <td>0.052</td>\n",
       "      <td>0.084</td>\n",
       "      <td>0.069</td>\n",
       "      <td>0.118</td>\n",
       "      <td>0.258</td>\n",
       "      <td>0.216</td>\n",
       "      <td>0.348</td>\n",
       "      <td>0.334</td>\n",
       "      <td>0.287</td>\n",
       "      <td>...</td>\n",
       "      <td>0.008</td>\n",
       "      <td>0.009</td>\n",
       "      <td>0.005</td>\n",
       "      <td>0.009</td>\n",
       "      <td>0.019</td>\n",
       "      <td>0.014</td>\n",
       "      <td>0.005</td>\n",
       "      <td>0.005</td>\n",
       "      <td>0.004</td>\n",
       "      <td>R</td>\n",
       "    </tr>\n",
       "    <tr>\n",
       "      <th>2</th>\n",
       "      <td>0.026</td>\n",
       "      <td>0.058</td>\n",
       "      <td>0.110</td>\n",
       "      <td>0.108</td>\n",
       "      <td>0.097</td>\n",
       "      <td>0.228</td>\n",
       "      <td>0.243</td>\n",
       "      <td>0.377</td>\n",
       "      <td>0.560</td>\n",
       "      <td>0.619</td>\n",
       "      <td>...</td>\n",
       "      <td>0.023</td>\n",
       "      <td>0.017</td>\n",
       "      <td>0.009</td>\n",
       "      <td>0.018</td>\n",
       "      <td>0.024</td>\n",
       "      <td>0.032</td>\n",
       "      <td>0.016</td>\n",
       "      <td>0.009</td>\n",
       "      <td>0.008</td>\n",
       "      <td>R</td>\n",
       "    </tr>\n",
       "    <tr>\n",
       "      <th>3</th>\n",
       "      <td>0.010</td>\n",
       "      <td>0.017</td>\n",
       "      <td>0.062</td>\n",
       "      <td>0.021</td>\n",
       "      <td>0.021</td>\n",
       "      <td>0.037</td>\n",
       "      <td>0.110</td>\n",
       "      <td>0.128</td>\n",
       "      <td>0.060</td>\n",
       "      <td>0.126</td>\n",
       "      <td>...</td>\n",
       "      <td>0.012</td>\n",
       "      <td>0.004</td>\n",
       "      <td>0.015</td>\n",
       "      <td>0.009</td>\n",
       "      <td>0.007</td>\n",
       "      <td>0.005</td>\n",
       "      <td>0.004</td>\n",
       "      <td>0.004</td>\n",
       "      <td>0.012</td>\n",
       "      <td>R</td>\n",
       "    </tr>\n",
       "    <tr>\n",
       "      <th>4</th>\n",
       "      <td>0.076</td>\n",
       "      <td>0.067</td>\n",
       "      <td>0.048</td>\n",
       "      <td>0.039</td>\n",
       "      <td>0.059</td>\n",
       "      <td>0.065</td>\n",
       "      <td>0.121</td>\n",
       "      <td>0.247</td>\n",
       "      <td>0.356</td>\n",
       "      <td>0.446</td>\n",
       "      <td>...</td>\n",
       "      <td>0.003</td>\n",
       "      <td>0.005</td>\n",
       "      <td>0.011</td>\n",
       "      <td>0.011</td>\n",
       "      <td>0.002</td>\n",
       "      <td>0.007</td>\n",
       "      <td>0.005</td>\n",
       "      <td>0.011</td>\n",
       "      <td>0.009</td>\n",
       "      <td>R</td>\n",
       "    </tr>\n",
       "  </tbody>\n",
       "</table>\n",
       "<p>5 rows × 61 columns</p>\n",
       "</div>"
      ],
      "text/plain": [
       "      0      1      2      3      4      5      6      7      8      9   ...  \\\n",
       "0  0.020  0.037  0.043  0.021  0.095  0.099  0.154  0.160  0.311  0.211  ...   \n",
       "1  0.045  0.052  0.084  0.069  0.118  0.258  0.216  0.348  0.334  0.287  ...   \n",
       "2  0.026  0.058  0.110  0.108  0.097  0.228  0.243  0.377  0.560  0.619  ...   \n",
       "3  0.010  0.017  0.062  0.021  0.021  0.037  0.110  0.128  0.060  0.126  ...   \n",
       "4  0.076  0.067  0.048  0.039  0.059  0.065  0.121  0.247  0.356  0.446  ...   \n",
       "\n",
       "      51     52     53     54     55     56     57     58     59  60  \n",
       "0  0.003  0.006  0.016  0.007  0.017  0.018  0.008  0.009  0.003   R  \n",
       "1  0.008  0.009  0.005  0.009  0.019  0.014  0.005  0.005  0.004   R  \n",
       "2  0.023  0.017  0.009  0.018  0.024  0.032  0.016  0.009  0.008   R  \n",
       "3  0.012  0.004  0.015  0.009  0.007  0.005  0.004  0.004  0.012   R  \n",
       "4  0.003  0.005  0.011  0.011  0.002  0.007  0.005  0.011  0.009   R  \n",
       "\n",
       "[5 rows x 61 columns]"
      ]
     },
     "execution_count": 11,
     "metadata": {},
     "output_type": "execute_result"
    }
   ],
   "source": [
    "data=pd.read_csv(\"sonar.csv\",header=None)\n",
    "data.head()"
   ]
  },
  {
   "cell_type": "markdown",
   "metadata": {},
   "source": [
    "# Comment on data format"
   ]
  },
  {
   "cell_type": "markdown",
   "metadata": {},
   "source": [
    "## ----------"
   ]
  },
  {
   "cell_type": "code",
   "execution_count": 12,
   "metadata": {
    "collapsed": false
   },
   "outputs": [
    {
     "name": "stdout",
     "output_type": "stream",
     "text": [
      "(208, 61)\n"
     ]
    },
    {
     "data": {
      "text/html": [
       "<div>\n",
       "<style scoped>\n",
       "    .dataframe tbody tr th:only-of-type {\n",
       "        vertical-align: middle;\n",
       "    }\n",
       "\n",
       "    .dataframe tbody tr th {\n",
       "        vertical-align: top;\n",
       "    }\n",
       "\n",
       "    .dataframe thead th {\n",
       "        text-align: right;\n",
       "    }\n",
       "</style>\n",
       "<table border=\"1\" class=\"dataframe\">\n",
       "  <thead>\n",
       "    <tr style=\"text-align: right;\">\n",
       "      <th></th>\n",
       "      <th>0</th>\n",
       "      <th>1</th>\n",
       "      <th>2</th>\n",
       "      <th>3</th>\n",
       "      <th>4</th>\n",
       "      <th>5</th>\n",
       "      <th>6</th>\n",
       "      <th>7</th>\n",
       "      <th>8</th>\n",
       "      <th>9</th>\n",
       "      <th>...</th>\n",
       "      <th>50</th>\n",
       "      <th>51</th>\n",
       "      <th>52</th>\n",
       "      <th>53</th>\n",
       "      <th>54</th>\n",
       "      <th>55</th>\n",
       "      <th>56</th>\n",
       "      <th>57</th>\n",
       "      <th>58</th>\n",
       "      <th>59</th>\n",
       "    </tr>\n",
       "  </thead>\n",
       "  <tbody>\n",
       "    <tr>\n",
       "      <th>count</th>\n",
       "      <td>208.000</td>\n",
       "      <td>2.080e+02</td>\n",
       "      <td>208.000</td>\n",
       "      <td>208.000</td>\n",
       "      <td>208.000</td>\n",
       "      <td>208.000</td>\n",
       "      <td>208.000</td>\n",
       "      <td>208.000</td>\n",
       "      <td>208.000</td>\n",
       "      <td>208.000</td>\n",
       "      <td>...</td>\n",
       "      <td>208.000</td>\n",
       "      <td>2.080e+02</td>\n",
       "      <td>2.080e+02</td>\n",
       "      <td>208.000</td>\n",
       "      <td>2.080e+02</td>\n",
       "      <td>2.080e+02</td>\n",
       "      <td>2.080e+02</td>\n",
       "      <td>2.080e+02</td>\n",
       "      <td>2.080e+02</td>\n",
       "      <td>2.080e+02</td>\n",
       "    </tr>\n",
       "    <tr>\n",
       "      <th>mean</th>\n",
       "      <td>0.029</td>\n",
       "      <td>3.844e-02</td>\n",
       "      <td>0.044</td>\n",
       "      <td>0.054</td>\n",
       "      <td>0.075</td>\n",
       "      <td>0.105</td>\n",
       "      <td>0.122</td>\n",
       "      <td>0.135</td>\n",
       "      <td>0.178</td>\n",
       "      <td>0.208</td>\n",
       "      <td>...</td>\n",
       "      <td>0.016</td>\n",
       "      <td>1.342e-02</td>\n",
       "      <td>1.071e-02</td>\n",
       "      <td>0.011</td>\n",
       "      <td>9.290e-03</td>\n",
       "      <td>8.222e-03</td>\n",
       "      <td>7.820e-03</td>\n",
       "      <td>7.949e-03</td>\n",
       "      <td>7.941e-03</td>\n",
       "      <td>6.507e-03</td>\n",
       "    </tr>\n",
       "    <tr>\n",
       "      <th>std</th>\n",
       "      <td>0.023</td>\n",
       "      <td>3.296e-02</td>\n",
       "      <td>0.038</td>\n",
       "      <td>0.047</td>\n",
       "      <td>0.056</td>\n",
       "      <td>0.059</td>\n",
       "      <td>0.062</td>\n",
       "      <td>0.085</td>\n",
       "      <td>0.118</td>\n",
       "      <td>0.134</td>\n",
       "      <td>...</td>\n",
       "      <td>0.012</td>\n",
       "      <td>9.634e-03</td>\n",
       "      <td>7.060e-03</td>\n",
       "      <td>0.007</td>\n",
       "      <td>7.088e-03</td>\n",
       "      <td>5.736e-03</td>\n",
       "      <td>5.785e-03</td>\n",
       "      <td>6.470e-03</td>\n",
       "      <td>6.181e-03</td>\n",
       "      <td>5.031e-03</td>\n",
       "    </tr>\n",
       "    <tr>\n",
       "      <th>min</th>\n",
       "      <td>0.002</td>\n",
       "      <td>6.000e-04</td>\n",
       "      <td>0.002</td>\n",
       "      <td>0.006</td>\n",
       "      <td>0.007</td>\n",
       "      <td>0.010</td>\n",
       "      <td>0.003</td>\n",
       "      <td>0.005</td>\n",
       "      <td>0.007</td>\n",
       "      <td>0.011</td>\n",
       "      <td>...</td>\n",
       "      <td>0.000</td>\n",
       "      <td>8.000e-04</td>\n",
       "      <td>5.000e-04</td>\n",
       "      <td>0.001</td>\n",
       "      <td>6.000e-04</td>\n",
       "      <td>4.000e-04</td>\n",
       "      <td>3.000e-04</td>\n",
       "      <td>3.000e-04</td>\n",
       "      <td>1.000e-04</td>\n",
       "      <td>6.000e-04</td>\n",
       "    </tr>\n",
       "    <tr>\n",
       "      <th>25%</th>\n",
       "      <td>0.013</td>\n",
       "      <td>1.645e-02</td>\n",
       "      <td>0.019</td>\n",
       "      <td>0.024</td>\n",
       "      <td>0.038</td>\n",
       "      <td>0.067</td>\n",
       "      <td>0.081</td>\n",
       "      <td>0.080</td>\n",
       "      <td>0.097</td>\n",
       "      <td>0.111</td>\n",
       "      <td>...</td>\n",
       "      <td>0.008</td>\n",
       "      <td>7.275e-03</td>\n",
       "      <td>5.075e-03</td>\n",
       "      <td>0.005</td>\n",
       "      <td>4.150e-03</td>\n",
       "      <td>4.400e-03</td>\n",
       "      <td>3.700e-03</td>\n",
       "      <td>3.600e-03</td>\n",
       "      <td>3.675e-03</td>\n",
       "      <td>3.100e-03</td>\n",
       "    </tr>\n",
       "    <tr>\n",
       "      <th>50%</th>\n",
       "      <td>0.023</td>\n",
       "      <td>3.080e-02</td>\n",
       "      <td>0.034</td>\n",
       "      <td>0.044</td>\n",
       "      <td>0.062</td>\n",
       "      <td>0.092</td>\n",
       "      <td>0.107</td>\n",
       "      <td>0.112</td>\n",
       "      <td>0.152</td>\n",
       "      <td>0.182</td>\n",
       "      <td>...</td>\n",
       "      <td>0.014</td>\n",
       "      <td>1.140e-02</td>\n",
       "      <td>9.550e-03</td>\n",
       "      <td>0.009</td>\n",
       "      <td>7.500e-03</td>\n",
       "      <td>6.850e-03</td>\n",
       "      <td>5.950e-03</td>\n",
       "      <td>5.800e-03</td>\n",
       "      <td>6.400e-03</td>\n",
       "      <td>5.300e-03</td>\n",
       "    </tr>\n",
       "    <tr>\n",
       "      <th>75%</th>\n",
       "      <td>0.036</td>\n",
       "      <td>4.795e-02</td>\n",
       "      <td>0.058</td>\n",
       "      <td>0.065</td>\n",
       "      <td>0.100</td>\n",
       "      <td>0.134</td>\n",
       "      <td>0.154</td>\n",
       "      <td>0.170</td>\n",
       "      <td>0.233</td>\n",
       "      <td>0.269</td>\n",
       "      <td>...</td>\n",
       "      <td>0.021</td>\n",
       "      <td>1.673e-02</td>\n",
       "      <td>1.490e-02</td>\n",
       "      <td>0.015</td>\n",
       "      <td>1.210e-02</td>\n",
       "      <td>1.058e-02</td>\n",
       "      <td>1.043e-02</td>\n",
       "      <td>1.035e-02</td>\n",
       "      <td>1.033e-02</td>\n",
       "      <td>8.525e-03</td>\n",
       "    </tr>\n",
       "    <tr>\n",
       "      <th>max</th>\n",
       "      <td>0.137</td>\n",
       "      <td>2.339e-01</td>\n",
       "      <td>0.306</td>\n",
       "      <td>0.426</td>\n",
       "      <td>0.401</td>\n",
       "      <td>0.382</td>\n",
       "      <td>0.373</td>\n",
       "      <td>0.459</td>\n",
       "      <td>0.683</td>\n",
       "      <td>0.711</td>\n",
       "      <td>...</td>\n",
       "      <td>0.100</td>\n",
       "      <td>7.090e-02</td>\n",
       "      <td>3.900e-02</td>\n",
       "      <td>0.035</td>\n",
       "      <td>4.470e-02</td>\n",
       "      <td>3.940e-02</td>\n",
       "      <td>3.550e-02</td>\n",
       "      <td>4.400e-02</td>\n",
       "      <td>3.640e-02</td>\n",
       "      <td>4.390e-02</td>\n",
       "    </tr>\n",
       "  </tbody>\n",
       "</table>\n",
       "<p>8 rows × 60 columns</p>\n",
       "</div>"
      ],
      "text/plain": [
       "            0          1        2        3        4        5        6   \\\n",
       "count  208.000  2.080e+02  208.000  208.000  208.000  208.000  208.000   \n",
       "mean     0.029  3.844e-02    0.044    0.054    0.075    0.105    0.122   \n",
       "std      0.023  3.296e-02    0.038    0.047    0.056    0.059    0.062   \n",
       "min      0.002  6.000e-04    0.002    0.006    0.007    0.010    0.003   \n",
       "25%      0.013  1.645e-02    0.019    0.024    0.038    0.067    0.081   \n",
       "50%      0.023  3.080e-02    0.034    0.044    0.062    0.092    0.107   \n",
       "75%      0.036  4.795e-02    0.058    0.065    0.100    0.134    0.154   \n",
       "max      0.137  2.339e-01    0.306    0.426    0.401    0.382    0.373   \n",
       "\n",
       "            7        8        9   ...       50         51         52       53  \\\n",
       "count  208.000  208.000  208.000  ...  208.000  2.080e+02  2.080e+02  208.000   \n",
       "mean     0.135    0.178    0.208  ...    0.016  1.342e-02  1.071e-02    0.011   \n",
       "std      0.085    0.118    0.134  ...    0.012  9.634e-03  7.060e-03    0.007   \n",
       "min      0.005    0.007    0.011  ...    0.000  8.000e-04  5.000e-04    0.001   \n",
       "25%      0.080    0.097    0.111  ...    0.008  7.275e-03  5.075e-03    0.005   \n",
       "50%      0.112    0.152    0.182  ...    0.014  1.140e-02  9.550e-03    0.009   \n",
       "75%      0.170    0.233    0.269  ...    0.021  1.673e-02  1.490e-02    0.015   \n",
       "max      0.459    0.683    0.711  ...    0.100  7.090e-02  3.900e-02    0.035   \n",
       "\n",
       "              54         55         56         57         58         59  \n",
       "count  2.080e+02  2.080e+02  2.080e+02  2.080e+02  2.080e+02  2.080e+02  \n",
       "mean   9.290e-03  8.222e-03  7.820e-03  7.949e-03  7.941e-03  6.507e-03  \n",
       "std    7.088e-03  5.736e-03  5.785e-03  6.470e-03  6.181e-03  5.031e-03  \n",
       "min    6.000e-04  4.000e-04  3.000e-04  3.000e-04  1.000e-04  6.000e-04  \n",
       "25%    4.150e-03  4.400e-03  3.700e-03  3.600e-03  3.675e-03  3.100e-03  \n",
       "50%    7.500e-03  6.850e-03  5.950e-03  5.800e-03  6.400e-03  5.300e-03  \n",
       "75%    1.210e-02  1.058e-02  1.043e-02  1.035e-02  1.033e-02  8.525e-03  \n",
       "max    4.470e-02  3.940e-02  3.550e-02  4.400e-02  3.640e-02  4.390e-02  \n",
       "\n",
       "[8 rows x 60 columns]"
      ]
     },
     "execution_count": 12,
     "metadata": {},
     "output_type": "execute_result"
    }
   ],
   "source": [
    "print(data.shape)\n",
    "data.describe()\n"
   ]
  },
  {
   "cell_type": "code",
   "execution_count": 13,
   "metadata": {
    "collapsed": false
   },
   "outputs": [
    {
     "data": {
      "text/plain": [
       "60\n",
       "M    111\n",
       "R     97\n",
       "dtype: int64"
      ]
     },
     "execution_count": 13,
     "metadata": {},
     "output_type": "execute_result"
    }
   ],
   "source": [
    "#This is a classification problem. \n",
    "#It can be useful to check the class distribution\n",
    "data.groupby(data.columns[-1]).size()"
   ]
  },
  {
   "cell_type": "code",
   "execution_count": 34,
   "metadata": {
    "collapsed": false
   },
   "outputs": [
    {
     "name": "stdout",
     "output_type": "stream",
     "text": [
      "        0      1      2      3      4      5      6      7      8      9   \\\n",
      "0    0.020  0.037  0.043  0.021  0.095  0.099  0.154  0.160  0.311  0.211   \n",
      "1    0.045  0.052  0.084  0.069  0.118  0.258  0.216  0.348  0.334  0.287   \n",
      "2    0.026  0.058  0.110  0.108  0.097  0.228  0.243  0.377  0.560  0.619   \n",
      "3    0.010  0.017  0.062  0.021  0.021  0.037  0.110  0.128  0.060  0.126   \n",
      "4    0.076  0.067  0.048  0.039  0.059  0.065  0.121  0.247  0.356  0.446   \n",
      "..     ...    ...    ...    ...    ...    ...    ...    ...    ...    ...   \n",
      "203  0.019  0.035  0.017  0.018  0.039  0.163  0.203  0.169  0.233  0.268   \n",
      "204  0.032  0.010  0.030  0.056  0.076  0.096  0.099  0.102  0.103  0.215   \n",
      "205  0.052  0.044  0.018  0.029  0.035  0.117  0.126  0.118  0.126  0.253   \n",
      "206  0.030  0.035  0.049  0.061  0.017  0.135  0.146  0.112  0.195  0.235   \n",
      "207  0.026  0.036  0.014  0.027  0.021  0.034  0.066  0.140  0.184  0.235   \n",
      "\n",
      "     ...     50     51     52     53     54     55     56     57     58     59  \n",
      "0    ...  0.023  0.003  0.006  0.016  0.007  0.017  0.018  0.008  0.009  0.003  \n",
      "1    ...  0.013  0.008  0.009  0.005  0.009  0.019  0.014  0.005  0.005  0.004  \n",
      "2    ...  0.003  0.023  0.017  0.009  0.018  0.024  0.032  0.016  0.009  0.008  \n",
      "3    ...  0.024  0.012  0.004  0.015  0.009  0.007  0.005  0.004  0.004  0.012  \n",
      "4    ...  0.016  0.003  0.005  0.011  0.011  0.002  0.007  0.005  0.011  0.009  \n",
      "..   ...    ...    ...    ...    ...    ...    ...    ...    ...    ...    ...  \n",
      "203  ...  0.020  0.012  0.010  0.020  0.003  0.010  0.006  0.011  0.019  0.016  \n",
      "204  ...  0.005  0.006  0.009  0.013  0.006  0.006  0.003  0.003  0.006  0.007  \n",
      "205  ...  0.015  0.016  0.003  0.005  0.006  0.009  0.014  0.014  0.008  0.003  \n",
      "206  ...  0.004  0.009  0.005  0.013  0.004  0.004  0.003  0.008  0.004  0.005  \n",
      "207  ...  0.018  0.015  0.013  0.005  0.004  0.006  0.004  0.004  0.006  0.011  \n",
      "\n",
      "[208 rows x 60 columns]\n",
      "0      R\n",
      "1      R\n",
      "2      R\n",
      "3      R\n",
      "4      R\n",
      "      ..\n",
      "203    M\n",
      "204    M\n",
      "205    M\n",
      "206    M\n",
      "207    M\n",
      "Name: 60, Length: 208, dtype: object\n"
     ]
    }
   ],
   "source": [
    "X=data.iloc[:,:-1]\n",
    "print(X)\n",
    "Y=data.iloc[:,-1]\n",
    "print(Y)"
   ]
  },
  {
   "cell_type": "code",
   "execution_count": 43,
   "metadata": {
    "collapsed": false
   },
   "outputs": [
    {
     "name": "stdout",
     "output_type": "stream",
     "text": [
      "[[-0.39955135 -0.04064823 -0.02692565 ...  0.06987027  0.17167808\n",
      "  -0.65894689]\n",
      " [ 0.70353822  0.42163039  1.05561832 ... -0.47240644 -0.44455424\n",
      "  -0.41985233]\n",
      " [-0.12922901  0.60106749  1.72340448 ...  1.30935987  0.25276128\n",
      "   0.25758223]\n",
      " ...\n",
      " [ 1.00438083  0.16007801 -0.67384349 ...  0.90652575 -0.03913824\n",
      "  -0.67887143]\n",
      " [ 0.04953255 -0.09539176  0.13480381 ... -0.00759783 -0.70402047\n",
      "  -0.34015415]\n",
      " [-0.13794908 -0.06497869 -0.78861924 ... -0.6738235  -0.29860448\n",
      "   0.99479044]]\n"
     ]
    }
   ],
   "source": [
    "from sklearn.preprocessing import StandardScaler,Normalizer\n",
    "scaler = StandardScaler().fit(X)\n",
    "rescaledX = scaler.transform(X)\n",
    "print(rescaledX)"
   ]
  },
  {
   "cell_type": "code",
   "execution_count": 46,
   "metadata": {
    "collapsed": false
   },
   "outputs": [
    {
     "name": "stdout",
     "output_type": "stream",
     "text": [
      "[[0.00676535 0.01254972 0.01447785 ... 0.00284145 0.00304441 0.00108246]\n",
      " [0.01516552 0.01750897 0.02822192 ... 0.00164042 0.00174085 0.00147303]\n",
      " [0.00728921 0.01619206 0.03057573 ... 0.00456271 0.00264303 0.00217007]\n",
      " ...\n",
      " [0.01750005 0.01465043 0.0060345  ... 0.00462645 0.00258143 0.00103928]\n",
      " [0.01056924 0.01231334 0.01709217 ... 0.00275568 0.00125575 0.00167434]\n",
      " [0.00871713 0.01217045 0.00455973 ... 0.00120699 0.00204517 0.00385565]]\n"
     ]
    }
   ],
   "source": [
    "# Normalize data (length of 1)\n",
    "scaler = Normalizer().fit(X)\n",
    "normalizedX = scaler.transform(X)\n",
    "\n",
    "# summarize transformed data\n",
    "#set_printoptions(precision=3)\n",
    "print(normalizedX)"
   ]
  },
  {
   "cell_type": "code",
   "execution_count": 49,
   "metadata": {
    "collapsed": false
   },
   "outputs": [
    {
     "name": "stdout",
     "output_type": "stream",
     "text": [
      "[2.76947227e-01 3.12836172e-01 2.57607246e-01 5.22356600e-01\n",
      " 4.19520499e-01 1.21090758e-01 8.54699230e-02 3.99063367e-01\n",
      " 1.68412856e+00 2.08995257e+00 2.89395104e+00 2.49726600e+00\n",
      " 1.47261917e+00 4.67062447e-01 8.96269601e-02 3.97006160e-03\n",
      " 5.45014525e-04 6.68306726e-03 5.21296607e-01 1.27389237e+00\n",
      " 1.33129635e+00 8.80297547e-01 3.25085150e-01 9.64595178e-02\n",
      " 1.17733743e-02 1.31087975e-02 5.38109726e-02 1.14167780e-01\n",
      " 2.49800624e-02 3.09060700e-04 2.30380212e-01 6.55002088e-02\n",
      " 2.43087797e-01 8.12184574e-01 1.83529467e+00 2.71819152e+00\n",
      " 1.43128115e+00 4.54013489e-02 8.15514258e-02 2.74056736e-02\n",
      " 9.18949396e-03 4.40002996e-01 8.88761744e-01 1.28767382e+00\n",
      " 2.77966705e+00 2.15914802e+00 1.16334560e+00 9.56715439e-01\n",
      " 6.35977962e-01 6.14716388e-02 1.59700811e-01 1.19280229e-01\n",
      " 1.93934453e-02 3.36571616e-02 1.02377508e-02 1.38585112e-02\n",
      " 7.70968750e-07 3.69810915e-02 1.70464977e-02 6.52995936e-03]\n"
     ]
    },
    {
     "data": {
      "image/png": "[encoded data removed]",
      "text/plain": [
       "<Figure size 432x288 with 1 Axes>"
      ]
     },
     "metadata": {
      "needs_background": "light"
     },
     "output_type": "display_data"
    }
   ],
   "source": [
    "from numpy import set_printoptions\n",
    "\n",
    "from sklearn.feature_selection import SelectKBest\n",
    "from sklearn.feature_selection import chi2\n",
    "test = SelectKBest(score_func=chi2, k=3)\n",
    "fit = test.fit(X, Y)\n",
    "#set_printoptions(precision=3)\n",
    "print(fit.scores_)\n",
    "plt.figure()\n",
    "plt.hist(np.arange(0,len(fit.scores_)),bins=len(fit.scores_),range=(0,len(fit.scores_)),weights=fit.scores_)\n",
    "plt.show()"
   ]
  },
  {
   "cell_type": "code",
   "execution_count": 50,
   "metadata": {
    "collapsed": false
   },
   "outputs": [
    {
     "data": {
      "text/plain": [
       "(208, 30)"
      ]
     },
     "execution_count": 50,
     "metadata": {},
     "output_type": "execute_result"
    }
   ],
   "source": [
    "X_new = SelectKBest(score_func=chi2, k=30).fit_transform(X, Y)\n",
    "X_new.shape"
   ]
  },
  {
   "cell_type": "code",
   "execution_count": 21,
   "metadata": {
    "collapsed": false
   },
   "outputs": [],
   "source": [
    "test_size=0.2\n",
    "seed=7"
   ]
  },
  {
   "cell_type": "code",
   "execution_count": 52,
   "metadata": {
    "collapsed": false
   },
   "outputs": [],
   "source": [
    "X_train,X_test,Y_train,Y_test=train_test_split(X_new,Y,test_size=test_size,random_state=4)"
   ]
  },
  {
   "cell_type": "code",
   "execution_count": 53,
   "metadata": {
    "collapsed": false
   },
   "outputs": [
    {
     "name": "stdout",
     "output_type": "stream",
     "text": [
      "(166, 30)\n",
      "(42, 30)\n"
     ]
    }
   ],
   "source": [
    "print(X_train.shape)\n",
    "print(X_test.shape)"
   ]
  },
  {
   "cell_type": "code",
   "execution_count": 56,
   "metadata": {
    "collapsed": false
   },
   "outputs": [],
   "source": [
    "model=LogisticRegression(C=0.01,solver=\"liblinear\")\n",
    "log_reg=model.fit(X_train,Y_train)\n",
    "y_predicted=log_reg.predict(X_test)\n",
    "#result=model.score(X_validation,Y_validation)\n",
    "#print(confusion_matrix(Y_validation,y_predicted))\n",
    "#print(accuracy_score(Y_validation,y_predicted))"
   ]
  },
  {
   "cell_type": "code",
   "execution_count": 32,
   "metadata": {
    "collapsed": true
   },
   "outputs": [],
   "source": [
    "test_size=0.33\n",
    "X_train,X_validation,Y_train,Y_validation=train_test_split(X,Y,test_size=test_size,random_state=seed)"
   ]
  },
  {
   "cell_type": "code",
   "execution_count": 34,
   "metadata": {
    "collapsed": false
   },
   "outputs": [],
   "source": [
    "from sklearn.model_selection import KFold\n",
    "from sklearn.model_selection import cross_val_score\n",
    "from sklearn.linear_model import LogisticRegression"
   ]
  },
  {
   "cell_type": "code",
   "execution_count": 51,
   "metadata": {
    "collapsed": false
   },
   "outputs": [
    {
     "name": "stdout",
     "output_type": "stream",
     "text": [
      "Accuracy: 76.423% (3.630%)\n"
     ]
    }
   ],
   "source": [
    "num_folds=5\n",
    "seed=7\n",
    "kfold=KFold(n_splits=num_folds,random_state=seed,shuffle=True)\n",
    "model=LogisticRegression(solver=\"liblinear\")\n",
    "results=cross_val_score(model,X,Y,cv=kfold)\n",
    "print(\"Accuracy: %.3f%% (%.3f%%)\"% (results.mean()*100,results.std()*100))"
   ]
  },
  {
   "cell_type": "code",
   "execution_count": 45,
   "metadata": {
    "collapsed": false
   },
   "outputs": [],
   "source": [
    "accuracy=[]\n",
    "accuracy_std=[]\n",
    "seed=7\n",
    "for i in range(1,len(Y)):\n",
    "    num_folds=i+1\n",
    "    kfold=KFold(n_splits=num_folds,random_state=seed,shuffle=True)\n",
    "    model=LogisticRegression()\n",
    "    results=cross_val_score(model,X,Y,cv=kfold)\n",
    "    accuracy.append(results.mean()*100)\n",
    "    accuracy_std.append(results.std()*100)\n",
    "    #print(\"Accuracy: %.3f%% (%.3f%%)\"% (results.mean()*100,results.std()*100))"
   ]
  },
  {
   "cell_type": "code",
   "execution_count": 50,
   "metadata": {
    "collapsed": false
   },
   "outputs": [
    {
     "data": {
      "image/png": "[encoded data removed]",
      "text/plain": [
       "<Figure size 432x288 with 1 Axes>"
      ]
     },
     "metadata": {
      "needs_background": "light"
     },
     "output_type": "display_data"
    }
   ],
   "source": [
    "from matplotlib import pyplot as plt\n",
    "plt.figure()\n",
    "plt.scatter(x=np.arange(1,len(Y)),y=accuracy)\n",
    "plt.errorbar(x=np.arange(1,len(Y)),y=accuracy,yerr=accuracy_std,xerr=None,fmt=\"\")\n",
    "plt.xlim(0,40)\n",
    "plt.ylim(70,100)\n",
    "plt.show()"
   ]
  },
  {
   "cell_type": "code",
   "execution_count": null,
   "metadata": {
    "collapsed": true
   },
   "outputs": [],
   "source": []
  },
  {
   "cell_type": "code",
   "execution_count": 56,
   "metadata": {
    "collapsed": false
   },
   "outputs": [
    {
     "name": "stdout",
     "output_type": "stream",
     "text": [
      "19\n",
      "20\n",
      "21\n",
      "22\n",
      "23\n",
      "24\n",
      "25\n",
      "26\n",
      "27\n",
      "28\n",
      "29\n"
     ]
    }
   ],
   "source": [
    "for i in range(0,60):\n",
    "    RockMean,MineMean=DataFrame.groupby(DataFrame.columns[-1]).mean()[i]\n",
    "    RockStd,MineStd=DataFrame.groupby(DataFrame.columns[-1]).std()[i]\n",
    "    if abs(RockMean-RockStd)>=0.3:\n",
    "        print(i)\n",
    "#DataFrame.groupby(DataFrame.columns[-1]).std()"
   ]
  }
 ],
 "metadata": {
  "kernelspec": {
   "display_name": "Python 3.8.6 64-bit",
   "language": "python",
   "name": "python38664bitead3197eac324144a461fef691c67992"
  },
  "language_info": {
   "codemirror_mode": {
    "name": "ipython",
    "version": 3
   },
   "file_extension": ".py",
   "mimetype": "text/x-python",
   "name": "python",
   "nbconvert_exporter": "python",
   "pygments_lexer": "ipython3",
   "version": "3.8.10"
  }
 },
 "nbformat": 4,
 "nbformat_minor": 0
}
